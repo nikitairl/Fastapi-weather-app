{
 "cells": [
  {
   "cell_type": "code",
   "execution_count": 3,
   "id": "bd983052-2aee-4386-86fe-4fd460354b84",
   "metadata": {},
   "outputs": [],
   "source": [
    "import requests\n",
    "from celery import Celery\n",
    "from celery.schedules import crontab\n",
    "from sqlalchemy.orm import Session\n",
    "\n",
    "from app import crud, main, models, worker"
   ]
  },
  {
   "cell_type": "code",
   "execution_count": 4,
   "id": "8a896ed7-05b2-4ca3-8b54-98a0a67db42c",
   "metadata": {},
   "outputs": [],
   "source": [
    "worker.get_weather_apis()"
   ]
  },
  {
   "cell_type": "code",
   "execution_count": null,
   "id": "13ffed66-4919-4a83-b300-62e051ab6fcc",
   "metadata": {},
   "outputs": [],
   "source": []
  }
 ],
 "metadata": {
  "kernelspec": {
   "display_name": "Python 3 (ipykernel)",
   "language": "python",
   "name": "python3"
  },
  "language_info": {
   "codemirror_mode": {
    "name": "ipython",
    "version": 3
   },
   "file_extension": ".py",
   "mimetype": "text/x-python",
   "name": "python",
   "nbconvert_exporter": "python",
   "pygments_lexer": "ipython3",
   "version": "3.10.6"
  }
 },
 "nbformat": 4,
 "nbformat_minor": 5
}
